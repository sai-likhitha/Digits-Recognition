{
  "nbformat": 4,
  "nbformat_minor": 0,
  "metadata": {
    "colab": {
      "name": "project-3:digits recognition",
      "provenance": [],
      "collapsed_sections": []
    },
    "kernelspec": {
      "name": "python3",
      "display_name": "Python 3"
    },
    "language_info": {
      "name": "python"
    }
  },
  "cells": [
    {
      "cell_type": "code",
      "metadata": {
        "id": "TNthKjjPD_ac"
      },
      "source": [
        "import numpy as np\n",
        "import matplotlib.pyplot as plt\n",
        "%matplotlib inline "
      ],
      "execution_count": null,
      "outputs": []
    },
    {
      "cell_type": "code",
      "metadata": {
        "id": "DHY1YFyBDr6A"
      },
      "source": [
        "import tensorflow as tf\n",
        "digits=tf.keras.datasets.mnist"
      ],
      "execution_count": null,
      "outputs": []
    },
    {
      "cell_type": "code",
      "metadata": {
        "colab": {
          "base_uri": "https://localhost:8080/"
        },
        "id": "Y1vmX7NAEVti",
        "outputId": "dc797bd2-d02d-43e0-acfd-76d29298620f"
      },
      "source": [
        "(x_train,y_train),(x_test,y_test)=digits.load_data()\n",
        "x_train= tf.keras.utils.normalize(x_train,axis=1)\n",
        "x_test= tf.keras.utils.normalize(x_test,axis=1)\n",
        "model=tf.keras.models.Sequential()\n",
        "model.add(tf.keras.layers.Flatten())\n",
        "model.add(tf.keras.layers.Dense(100, activation=tf.nn.relu))\n",
        "model.add(tf.keras.layers.Dense(100, activation=tf.nn.relu))\n",
        "model.add(tf.keras.layers.Dense(10, activation=tf.nn.softmax))\n",
        "\n",
        "model.compile(optimizer='adam',loss='sparse_categorical_crossentropy',metrics=['accuracy'])\n",
        "model.fit(x_train,y_train, epochs=5)"
      ],
      "execution_count": null,
      "outputs": [
        {
          "output_type": "stream",
          "text": [
            "Epoch 1/5\n",
            "1875/1875 [==============================] - 4s 2ms/step - loss: 0.2822 - accuracy: 0.9183\n",
            "Epoch 2/5\n",
            "1875/1875 [==============================] - 4s 2ms/step - loss: 0.1162 - accuracy: 0.9646\n",
            "Epoch 3/5\n",
            "1875/1875 [==============================] - 3s 2ms/step - loss: 0.0793 - accuracy: 0.9747\n",
            "Epoch 4/5\n",
            "1875/1875 [==============================] - 3s 2ms/step - loss: 0.0601 - accuracy: 0.9805\n",
            "Epoch 5/5\n",
            "1875/1875 [==============================] - 3s 2ms/step - loss: 0.0478 - accuracy: 0.9845\n"
          ],
          "name": "stdout"
        },
        {
          "output_type": "execute_result",
          "data": {
            "text/plain": [
              "<tensorflow.python.keras.callbacks.History at 0x7f2ff00eef90>"
            ]
          },
          "metadata": {
            "tags": []
          },
          "execution_count": 19
        }
      ]
    },
    {
      "cell_type": "code",
      "metadata": {
        "colab": {
          "base_uri": "https://localhost:8080/"
        },
        "id": "FvDz0zojFkJC",
        "outputId": "a1daec93-5a06-458c-9566-7f9e10ca8278"
      },
      "source": [
        "loss,acc=model.evaluate(x_test,y_test)\n",
        "print(loss,acc)"
      ],
      "execution_count": null,
      "outputs": [
        {
          "output_type": "stream",
          "text": [
            "313/313 [==============================] - 1s 1ms/step - loss: 0.0915 - accuracy: 0.9742\n",
            "0.09148603677749634 0.9742000102996826\n"
          ],
          "name": "stdout"
        }
      ]
    },
    {
      "cell_type": "code",
      "metadata": {
        "colab": {
          "base_uri": "https://localhost:8080/",
          "height": 1000
        },
        "id": "I-qTNHOlEgp_",
        "outputId": "33e93dd0-21df-4744-8986-ecc673ce6871"
      },
      "source": [
        "plt.imshow(x_train[0],cmap=plt.cm.binary)\n",
        "plt.show()\n",
        "print(x_train[0])\n"
      ],
      "execution_count": null,
      "outputs": [
        {
          "output_type": "display_data",
          "data": {
            "image/png": "[encoded data removed]",
            "text/plain": [
              "<Figure size 432x288 with 1 Axes>"
            ]
          },
          "metadata": {
            "tags": [],
            "needs_background": "light"
          }
        },
        {
          "output_type": "stream",
          "text": [
            "[[0.         0.         0.         0.         0.         0.\n",
            "  0.         0.         0.         0.         0.         0.\n",
            "  0.         0.         0.         0.         0.         0.\n",
            "  0.         0.         0.         0.         0.         0.\n",
            "  0.         0.         0.         0.        ]\n",
            " [0.         0.         0.         0.         0.         0.\n",
            "  0.         0.         0.         0.         0.         0.\n",
            "  0.         0.         0.         0.         0.         0.\n",
            "  0.         0.         0.         0.         0.         0.\n",
            "  0.         0.         0.         0.        ]\n",
            " [0.         0.         0.         0.         0.         0.\n",
            "  0.         0.         0.         0.         0.         0.\n",
            "  0.         0.         0.         0.         0.         0.\n",
            "  0.         0.         0.         0.         0.         0.\n",
            "  0.         0.         0.         0.        ]\n",
            " [0.         0.         0.         0.         0.         0.\n",
            "  0.         0.         0.         0.         0.         0.\n",
            "  0.         0.         0.         0.         0.         0.\n",
            "  0.         0.         0.         0.         0.         0.\n",
            "  0.         0.         0.         0.        ]\n",
            " [0.         0.         0.         0.         0.         0.\n",
            "  0.         0.         0.         0.         0.         0.\n",
            "  0.         0.         0.         0.         0.         0.\n",
            "  0.         0.         0.         0.         0.         0.\n",
            "  0.         0.         0.         0.        ]\n",
            " [0.         0.         0.         0.         0.         0.\n",
            "  0.         0.         0.         0.         0.         0.05360584\n",
            "  0.06300896 0.15315156 0.33722666 0.31837327 0.30126264 0.27010914\n",
            "  0.25773558 0.34097592 0.25832406 0.01332988 0.         0.\n",
            "  0.         0.         0.         0.        ]\n",
            " [0.         0.         0.         0.         0.         0.\n",
            "  0.         0.         0.         0.07218017 0.20063235 0.31599232\n",
            "  0.33116335 0.36756375 0.33458175 0.31711488 0.30007188 0.26904151\n",
            "  0.25671686 0.33962819 0.3741245  0.35102012 0.16491144 0.\n",
            "  0.         0.         0.         0.        ]\n",
            " [0.         0.         0.         0.         0.         0.\n",
            "  0.         0.         0.         0.29879233 0.36373635 0.35549136\n",
            "  0.36926179 0.36756375 0.33458175 0.31711488 0.30007188 0.26904151\n",
            "  0.25671686 0.33962819 0.3741245  0.55985487 0.69498391 0.\n",
            "  0.         0.         0.         0.        ]\n",
            " [0.         0.         0.         0.         0.         0.\n",
            "  0.         0.         0.         0.18296834 0.36373635 0.35549136\n",
            "  0.33702465 0.19253339 0.17588685 0.16610779 0.15718051 0.20178114\n",
            "  0.25671686 0.33962819 0.3741245  0.55985487 0.69498391 0.\n",
            "  0.         0.         0.         0.        ]\n",
            " [0.         0.         0.         0.         0.         0.\n",
            "  0.         0.         0.         0.00671443 0.04185855 0.04090972\n",
            "  0.03516779 0.         0.         0.         0.         0.01494675\n",
            "  0.2302302  0.33962819 0.3741245  0.38212317 0.08245572 0.\n",
            "  0.         0.         0.         0.        ]\n",
            " [0.         0.         0.         0.         0.         0.\n",
            "  0.         0.         0.         0.         0.         0.\n",
            "  0.         0.         0.         0.         0.         0.09074813\n",
            "  0.2475484  0.33962819 0.3741245  0.31991707 0.         0.\n",
            "  0.         0.         0.         0.        ]\n",
            " [0.         0.         0.         0.         0.         0.\n",
            "  0.         0.         0.         0.         0.         0.\n",
            "  0.         0.         0.         0.         0.10478701 0.20178114\n",
            "  0.25671686 0.33962819 0.3741245  0.03110305 0.         0.\n",
            "  0.         0.         0.         0.        ]\n",
            " [0.         0.         0.         0.         0.         0.\n",
            "  0.         0.         0.         0.         0.         0.\n",
            "  0.         0.         0.12034363 0.26677918 0.29411807 0.26904151\n",
            "  0.25671686 0.33962819 0.30286269 0.01999482 0.         0.\n",
            "  0.         0.         0.         0.        ]\n",
            " [0.         0.         0.         0.         0.         0.\n",
            "  0.         0.         0.         0.05371548 0.18042478 0.27226124\n",
            "  0.28280764 0.28150716 0.33458175 0.31711488 0.30007188 0.26904151\n",
            "  0.24245482 0.13746855 0.04156939 0.         0.         0.\n",
            "  0.         0.         0.         0.        ]\n",
            " [0.         0.         0.         0.         0.         0.\n",
            "  0.         0.         0.09847652 0.37265111 0.36373635 0.35549136\n",
            "  0.36926179 0.36756375 0.33458175 0.31711488 0.30007188 0.26904151\n",
            "  0.18031304 0.         0.         0.         0.         0.\n",
            "  0.         0.         0.         0.        ]\n",
            " [0.         0.         0.         0.         0.         0.\n",
            "  0.         0.         0.09847652 0.37432972 0.36517975 0.35690204\n",
            "  0.37072711 0.36902233 0.33722666 0.31837327 0.30126264 0.27010914\n",
            "  0.25773558 0.09973209 0.         0.         0.         0.\n",
            "  0.         0.         0.         0.        ]\n",
            " [0.         0.         0.         0.         0.         0.\n",
            "  0.         0.         0.         0.05203687 0.17753798 0.07335536\n",
            "  0.06447428 0.0641778  0.05818813 0.05536926 0.17027888 0.26904151\n",
            "  0.25671686 0.09973209 0.         0.         0.         0.\n",
            "  0.         0.         0.         0.        ]\n",
            " [0.         0.         0.         0.         0.         0.\n",
            "  0.         0.         0.         0.         0.         0.\n",
            "  0.         0.         0.         0.         0.01786142 0.26904151\n",
            "  0.25671686 0.09973209 0.         0.         0.         0.\n",
            "  0.         0.         0.         0.        ]\n",
            " [0.         0.         0.         0.         0.         0.\n",
            "  0.         0.         0.         0.         0.         0.\n",
            "  0.         0.         0.         0.         0.10240548 0.26904151\n",
            "  0.25671686 0.09973209 0.         0.         0.         0.\n",
            "  0.         0.         0.         0.        ]\n",
            " [0.         0.         0.         0.         0.         0.\n",
            "  0.01161786 0.14427079 0.0196953  0.         0.         0.\n",
            "  0.         0.         0.         0.12332245 0.28816427 0.26904151\n",
            "  0.25671686 0.09973209 0.         0.         0.         0.\n",
            "  0.         0.         0.         0.        ]\n",
            " [0.         0.         0.         0.         0.         0.20040434\n",
            "  0.4252136  0.48474986 0.06346265 0.         0.         0.\n",
            "  0.         0.02625455 0.12166609 0.30075577 0.30007188 0.26904151\n",
            "  0.2475484  0.08760251 0.         0.         0.         0.\n",
            "  0.         0.         0.         0.        ]\n",
            " [0.         0.         0.         0.         0.         0.68334595\n",
            "  0.58554004 0.48474986 0.32168998 0.22493355 0.19341536 0.18903112\n",
            "  0.19635349 0.29609302 0.33458175 0.31711488 0.30007188 0.20071351\n",
            "  0.08455357 0.         0.         0.         0.         0.\n",
            "  0.         0.         0.         0.        ]\n",
            " [0.         0.         0.         0.         0.         0.68334595\n",
            "  0.58554004 0.48474986 0.55146853 0.42300937 0.36373635 0.35549136\n",
            "  0.36926179 0.36756375 0.33458175 0.28943024 0.1821865  0.008541\n",
            "  0.         0.         0.         0.         0.         0.\n",
            "  0.         0.         0.         0.        ]\n",
            " [0.         0.         0.         0.         0.         0.16098054\n",
            "  0.36480074 0.48474986 0.55146853 0.42300937 0.36373635 0.35549136\n",
            "  0.31797543 0.30192736 0.19307879 0.05662766 0.         0.\n",
            "  0.         0.         0.         0.         0.         0.\n",
            "  0.         0.         0.         0.        ]\n",
            " [0.         0.         0.         0.         0.         0.\n",
            "  0.016265   0.19813189 0.51426629 0.42300937 0.24826449 0.14530004\n",
            "  0.03516779 0.         0.         0.         0.         0.\n",
            "  0.         0.         0.         0.         0.         0.\n",
            "  0.         0.         0.         0.        ]\n",
            " [0.         0.         0.         0.         0.         0.\n",
            "  0.         0.         0.         0.         0.         0.\n",
            "  0.         0.         0.         0.         0.         0.\n",
            "  0.         0.         0.         0.         0.         0.\n",
            "  0.         0.         0.         0.        ]\n",
            " [0.         0.         0.         0.         0.         0.\n",
            "  0.         0.         0.         0.         0.         0.\n",
            "  0.         0.         0.         0.         0.         0.\n",
            "  0.         0.         0.         0.         0.         0.\n",
            "  0.         0.         0.         0.        ]\n",
            " [0.         0.         0.         0.         0.         0.\n",
            "  0.         0.         0.         0.         0.         0.\n",
            "  0.         0.         0.         0.         0.         0.\n",
            "  0.         0.         0.         0.         0.         0.\n",
            "  0.         0.         0.         0.        ]]\n"
          ],
          "name": "stdout"
        }
      ]
    }
  ]
}